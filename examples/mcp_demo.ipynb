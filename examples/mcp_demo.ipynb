{
 "cells": [
  {
   "cell_type": "markdown",
   "metadata": {},
   "source": [
    "# Claude MCP Integration Demo\n",
    "This notebook demonstrates various capabilities of the Claude Model Context Protocol (MCP) when integrated with GitHub.\n",
    "\n",
    "## Features Demonstrated:\n",
    "- File operations\n",
    "- GitHub API interactions\n",
    "- Data analysis capabilities\n"
   ]
  },
  {
   "cell_type": "code",
   "execution_count": null,
   "metadata": {},
   "source": [
    "# Import required modules\n",
    "from examples.file_operations import create_file, read_file, update_file\n",
    "\n",
    "# Create a test file\n",
    "create_file('test.txt', 'Hello from Claude MCP!')"
   ]
  },
  {
   "cell_type": "code",
   "execution_count": null,
   "metadata": {},
   "source": [
    "# Demonstrate GitHub operations\n",
    "import json\n",
    "\n",
    "# Create an example issue\n",
    "issue_data = {\n",
    "    'title': 'Test Issue from MCP',\n",
    "    'body': 'This is a test issue created via Claude MCP'\n",
    "}\n",
    "print(json.dumps(issue_data, indent=2))"
   ]
  }
 ]
}
